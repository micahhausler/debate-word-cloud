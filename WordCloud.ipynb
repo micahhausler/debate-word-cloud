{
 "cells": [
  {
   "cell_type": "code",
   "execution_count": 31,
   "metadata": {
    "collapsed": false
   },
   "outputs": [],
   "source": [
    "# pip install wordcloud nltk matplotlib pillow ipython[notebook]\n",
    "# >>> nltk.download()\n",
    "#\n",
    "\n",
    "from os import path\n",
    "from wordcloud import WordCloud\n",
    "import nltk\n"
   ]
  },
  {
   "cell_type": "code",
   "execution_count": 49,
   "metadata": {
    "collapsed": false
   },
   "outputs": [],
   "source": [
    "url = 'http://www.nytimes.com/2015/11/11/us/politics/transcript-republican-presidential-debate.html'\n",
    "raw_data = open('raw_text.txt').read()\n",
    "\n",
    "\n",
    "# Replace transcript control words with blanks:\n",
    "TRANSCRIPT_CONTROL = [\n",
    "    'TRUMP:',\n",
    "    'CARSON:',\n",
    "    'RUBIO:',\n",
    "    'CRUZ:',\n",
    "    'BUSH:',\n",
    "    'FIORINA:',\n",
    "    'KASICH:',\n",
    "    'PAUL:',\n",
    "    \n",
    "    'CAVUTO:',\n",
    "    'BAKER:',\n",
    "    'BARTIROMO:',\n",
    "    \n",
    "    '(UNKNOWN):',\n",
    "    \n",
    "    '(APPLAUSE)',\n",
    "    '(LAUGHTER)',\n",
    "    '(CHEERING)',\n",
    "    '(CHEERING AND APPLAUSE)',\n",
    "    '(AUDIENCE REACTION)',\n",
    "    '(BOOING)',\n",
    "    \n",
    "    '(CROSSTALK)',\n",
    "    '(COMMERCIAL BREAK)',\n",
    "    '(BELL RINGING)',\n",
    "    '(AUDIO GAP)',\n",
    "    '(MUSIC)',\n",
    "    'MORE',\n",
    "]\n",
    "for control in TRANSCRIPT_CONTROL:\n",
    "    raw_data = raw_data.replace('{0}'.format(control), '')\n",
    "\n",
    "CLEAN_CONTROL = [word.strip('(').strip(')').strip(':') for word in TRANSCRIPT_CONTROL]\n"
   ]
  },
  {
   "cell_type": "code",
   "execution_count": 50,
   "metadata": {
    "collapsed": false
   },
   "outputs": [],
   "source": [
    "tokens = nltk.wordpunct_tokenize(raw_data)\n",
    "tagged_tokens = nltk.pos_tag([token.lower() for token in tokens])\n",
    "fd = nltk.FreqDist(tagged_tokens)\n",
    "\n",
    "interesting_classes = ['NN', 'NNP', 'NNS', 'VB', 'JJ', 'CD', 'NNPS', 'VBG']\n",
    "stop_words = [tok[0][0] for tok in fd.most_common(10000)  if  tok[0][1] not in interesting_classes]\n",
    "stop_words.extend(['be', 'u', 'going'])\n",
    "stop_words.extend(CLEAN_CONTROL)\n"
   ]
  },
  {
   "cell_type": "code",
   "execution_count": null,
   "metadata": {
    "collapsed": true
   },
   "outputs": [],
   "source": []
  },
  {
   "cell_type": "code",
   "execution_count": null,
   "metadata": {
    "collapsed": false
   },
   "outputs": [],
   "source": []
  },
  {
   "cell_type": "code",
   "execution_count": null,
   "metadata": {
    "collapsed": false
   },
   "outputs": [],
   "source": [
    "# the matplotlib way:\n",
    "import matplotlib.pyplot as plt\n",
    "# plt.imshow(wordcloud)\n",
    "# plt.axis(\"off\")\n",
    "\n",
    "# take relative word frequencies into account, lower max_font_size\n",
    "# wordcloud = WordCloud(width=800, height=400).generate(raw_data)\n",
    "wordcloud = WordCloud(stopwords=stop_words, width=1600, height=800).generate(raw_data)\n",
    "plt.figure()\n",
    "plt.imshow(wordcloud)\n",
    "plt.axis(\"off\")\n",
    "plt.show()"
   ]
  },
  {
   "cell_type": "code",
   "execution_count": null,
   "metadata": {
    "collapsed": true
   },
   "outputs": [],
   "source": []
  }
 ],
 "metadata": {
  "kernelspec": {
   "display_name": "Python 3",
   "language": "python",
   "name": "python3"
  },
  "language_info": {
   "codemirror_mode": {
    "name": "ipython",
    "version": 3
   },
   "file_extension": ".py",
   "mimetype": "text/x-python",
   "name": "python",
   "nbconvert_exporter": "python",
   "pygments_lexer": "ipython3",
   "version": "3.5.0"
  }
 },
 "nbformat": 4,
 "nbformat_minor": 0
}
